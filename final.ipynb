{
  "cells": [
    {
      "cell_type": "markdown",
      "metadata": {
        "id": "zlSCscrxIFT_"
      },
      "source": [
        "# CS4320 Introduction to Machine Learning\n",
        "\n",
        "## A Template for the Course Project Submssion\n",
        "\n",
        "Note: This template is optional. You can design your Jupyter Notebook structure based on your competition and preference. However, we expect you practice as many machine learning skills you learned in this course as possible.\n",
        "\n",
        "**Please type your group name here:**"
      ]
    },
    {
      "cell_type": "code",
      "execution_count": 4,
      "metadata": {
        "id": "VDtUzlwmIFUC"
      },
      "outputs": [],
      "source": [
        "GroupName = \"Narwhals\"\n",
        "assert GroupName != \"\", 'Please enter your name in the above quotation marks, thanks!'"
      ]
    },
    {
      "cell_type": "markdown",
      "metadata": {
        "id": "gBVMWGP6IFUD"
      },
      "source": [
        "## Table of contents\n",
        "0. [Submission instructions](#si)\n",
        "1. [Understanding the problem](#1)\n",
        "2. [Data splitting](#2)\n",
        "3. [EDA](#3)\n",
        "4. [Feature engineering](#4)\n",
        "5. [Preprocessing and transformations](#5) \n",
        "6. [Baseline model](#6)\n",
        "7. [Linear models](#7)\n",
        "8. [Different models](#8)\n",
        "9. [Feature selection](#9)\n",
        "10. [Hyperparameter optimization](#10)\n",
        "11. [Interpretation and feature importances](#11) \n",
        "12. [Results on the test set](#12)\n",
        "13. [Submit the predictions to Kaggle](#13)\n",
        "14. [Your takeaway from the course](#14)"
      ]
    },
    {
      "cell_type": "markdown",
      "metadata": {
        "id": "ffJ_RQPlIFUE"
      },
      "source": [
        "## Submission instructions <a name=\"si\"></a>\n",
        "<hr>\n",
        "\n",
        "- It's your responsibility to make sure that the assignment is submitted by one of the group members before the deadline. \n",
        "- Upload the .ipynb file to Canvas.\n",
        "- **Submit the screenshot of your Kaggle submission ranking and score** \n",
        "- Run all cells in your notebook to make sure there are no errors by doing `Kernel -> Restart Kernel and Clear All Outputs` and then `Run -> Run All Cells`.\n",
        "- Notebooks with cell execution numbers out of order will have marks deducted. Notebooks without the output displayed may not be graded at all (because we need to see the output in order to grade your work).\n",
        "- Make sure that the plots and output are rendered properly in your submitted file. \n",
        "- Please keep your notebook clean and delete any throwaway code."
      ]
    },
    {
      "cell_type": "markdown",
      "metadata": {
        "id": "5qLrWHjLIFUE"
      },
      "source": [
        "## Introduction <a name=\"in\"></a>\n",
        "\n",
        "A few notes and tips when you work on this project: \n",
        "\n",
        "#### Tips\n",
        "1. The project is open-ended, and while working on it, there might be some situations where you'll have to use your own judgment and make your own decisions (as you would be doing when you work as a data scientist). Make sure you explain your decisions whenever necessary. \n",
        "2. **Do not include everything you ever tried in your submission** -- it's fine just to have your final code. That said, your code should be reproducible and well-documented. For example, if you chose your hyperparameters based on some hyperparameter optimization experiment, you should leave in the code for that experiment so that someone else could re-run it and obtain the same hyperparameters, rather than mysteriously just setting the hyperparameters to some (carefully chosen) values in your code. \n",
        "3. If you realize that you are repeating a lot of code try to organize it in functions. Clear presentation of your code, experiments, and results is the key to be successful in this lab. You may use code from lecture notes or previous lab solutions with appropriate attributions. \n",
        "\n",
        "#### Assessment\n",
        "We plan to grade fairly and leniently. We don't have some secret target score that you need to achieve to get a good grade. **You'll be assessed on demonstration of mastery of course topics, clear presentation, and the quality of your analysis and results.** For example, if you just have a bunch of code and no text or figures, that's not good. If you do a bunch of sane things and get a lower accuracy than your friend, don't sweat it.\n"
      ]
    },
    {
      "cell_type": "markdown",
      "metadata": {
        "id": "ennEmGFLIFUF"
      },
      "source": [
        "<br><br>"
      ]
    },
    {
      "cell_type": "markdown",
      "metadata": {
        "id": "pZjqxLRsIFUF"
      },
      "source": [
        "<!-- BEGIN QUESTION -->\n",
        "\n",
        "## 1. Pick your problem and explain the prediction problem <a name=\"1\"></a>\n",
        "<hr>\n",
        "\n",
        "**Your tasks:**\n",
        "\n",
        "1. Spend some time understanding the problem and what each feature means. Write a few sentences on your initial thoughts on the problem and the dataset. "
      ]
    },
    {
      "cell_type": "markdown",
      "metadata": {
        "id": "okQ9Y3dzIFUG"
      },
      "source": [
        "Your answer here: In this problem we are given a dataset of tweets where we are predicting whether the tweet is about an actual disaster through three different parameters. Those parameters are the tweet itself, a possible keyword and a possible location. Not all the tweets had a keyword or location. A keyword would be something that could possibly make the tweet about a disaster (i.e. fire). The dataset is already split into train and test and therefore we will only be working with the train set. "
      ]
    },
    {
      "cell_type": "code",
      "execution_count": 5,
      "metadata": {
        "id": "16g74w47IFUG"
      },
      "outputs": [],
      "source": [
        "import numpy as np\n",
        "import matplotlib.pyplot as plt\n",
        "import pandas as pd\n",
        "from sklearn.compose import ColumnTransformer, make_column_transformer\n",
        "from sklearn.dummy import DummyClassifier\n",
        "from sklearn.impute import SimpleImputer\n",
        "from sklearn.model_selection import cross_val_score, cross_validate, train_test_split\n",
        "from sklearn.ensemble import RandomForestClassifier\n",
        "from sklearn.preprocessing import LabelEncoder\n",
        "from sklearn.pipeline import Pipeline, make_pipeline\n",
        "from sklearn.linear_model import LogisticRegression, RidgeClassifier\n",
        "from sklearn.preprocessing import OneHotEncoder, StandardScaler, OrdinalEncoder\n",
        "from sklearn.svm import SVC\n",
        "from sklearn.tree import DecisionTreeClassifier\n",
        "from sklearn.neighbors import KNeighborsClassifier\n",
        "\n",
        "from sklearn.feature_extraction.text import CountVectorizer\n",
        "\n",
        "\n",
        "\n",
        "from sklearn.model_selection import (\n",
        "    GridSearchCV,\n",
        "    RandomizedSearchCV,\n",
        "    cross_val_score,\n",
        "    cross_validate,\n",
        "    train_test_split,\n",
        ")\n"
      ]
    },
    {
      "cell_type": "code",
      "execution_count": 6,
      "metadata": {
        "colab": {
          "base_uri": "https://localhost:8080/"
        },
        "id": "4kKcDVv2Sppb",
        "outputId": "59022bec-7c28-4166-9d9e-7883094370bb"
      },
      "outputs": [
        {
          "output_type": "stream",
          "name": "stdout",
          "text": [
            "Drive already mounted at /content/gdrive; to attempt to forcibly remount, call drive.mount(\"/content/gdrive\", force_remount=True).\n"
          ]
        }
      ],
      "source": [
        "from google.colab import drive\n",
        "drive.mount('/content/gdrive')\n",
        "from google.colab import files"
      ]
    },
    {
      "cell_type": "code",
      "execution_count": 7,
      "metadata": {
        "id": "gv7yg2VaJVDS"
      },
      "outputs": [],
      "source": [
        "file_train = r\"/content/gdrive/My Drive/cs4320_project/data/train.csv\"\n",
        "file_test = r\"/content/gdrive/My Drive/cs4320_project/data/test.csv\"\n",
        "\n",
        "train_df = pd.read_csv(file_train, header = 0, index_col=\"id\")\n",
        "test_df = pd.read_csv(file_test, header = 0, index_col=\"id\")\n"
      ]
    },
    {
      "cell_type": "markdown",
      "metadata": {
        "id": "QC5jRvE8IFUH"
      },
      "source": [
        "<!-- BEGIN QUESTION -->\n",
        "\n",
        "## 2. Data splitting <a name=\"2\"></a>\n",
        "<hr>\n",
        "\n",
        "Data is already split for us from the Kaggle data set we are using. But we will \n",
        "split the x and y, into seperate Dataframes."
      ]
    },
    {
      "cell_type": "code",
      "execution_count": 8,
      "metadata": {
        "id": "yWfQZnFhlmlK"
      },
      "outputs": [],
      "source": [
        "X_train = train_df.drop(columns=['target'])\n",
        "y_train = train_df['target']\n",
        "\n",
        "X_test = test_df"
      ]
    },
    {
      "cell_type": "markdown",
      "metadata": {
        "id": "mgv8Ds7nIFUH"
      },
      "source": [
        "<!-- BEGIN QUESTION -->\n",
        "\n",
        "## 3. EDA <a name=\"3\"></a>\n",
        "<hr>\n",
        "\n",
        "**Your tasks:**\n",
        "\n",
        "1. Perform exploratory data analysis on the train set.\n",
        "2. Include at least two summary statistics and two visualizations that you find useful, and accompany each one with a sentence explaining it.\n",
        "3. Summarize your initial observations about the data. "
      ]
    },
    {
      "cell_type": "markdown",
      "metadata": {
        "id": "d9kiDl-mLqdb"
      },
      "source": [
        "###### Number of targets"
      ]
    },
    {
      "cell_type": "code",
      "execution_count": 9,
      "metadata": {
        "colab": {
          "base_uri": "https://localhost:8080/",
          "height": 264
        },
        "id": "fAZs5RnMJVS0",
        "outputId": "7522deec-790e-4de4-9d90-d61966e257f8"
      },
      "outputs": [
        {
          "output_type": "display_data",
          "data": {
            "text/plain": [
              "<Figure size 432x288 with 1 Axes>"
            ],
            "image/png": "[encoded data removed]"
          },
          "metadata": {}
        }
      ],
      "source": [
        "import matplotlib.pyplot as plt\n",
        "\n",
        "\n",
        "target = y_train.sum()\n",
        "\n",
        "not_target = len(y_train) - target\n",
        "\n",
        "\n",
        "# Pie chart, where the slices will be ordered and plotted counter-clockwise:\n",
        "labels = 'Target', 'Not target'\n",
        "explode = (0, 0.1)  # only \"explode\" the 2nd slice (i.e. 'Hogs')\n",
        "\n",
        "fig1, ax1 = plt.subplots()\n",
        "ax1.pie([target, not_target], explode=explode, labels=labels, autopct='%1.1f%%',\n",
        "        shadow=True, startangle=90)\n",
        "ax1.axis('equal')  # Equal aspect ratio ensures that pie is drawn as a circle.\n",
        "\n",
        "ax1.set_title(\"Percent of Tweets that are an Emegerncy\")\n",
        "plt.show()"
      ]
    },
    {
      "cell_type": "markdown",
      "metadata": {
        "id": "2o2eCnx4JwrD"
      },
      "source": [
        "The tweets in the set are pretty evenly split between actual emergencies and not emergencies. "
      ]
    },
    {
      "cell_type": "markdown",
      "metadata": {
        "id": "Y8LPtro-LiO1"
      },
      "source": [
        "###### Number of words "
      ]
    },
    {
      "cell_type": "code",
      "execution_count": 10,
      "metadata": {
        "colab": {
          "base_uri": "https://localhost:8080/"
        },
        "id": "zRwwewkcLzay",
        "outputId": "7e99ae7c-439b-4245-a405-9c9c81db3c4d"
      },
      "outputs": [
        {
          "output_type": "execute_result",
          "data": {
            "text/plain": [
              "(7613, 21616)"
            ]
          },
          "metadata": {},
          "execution_count": 10
        }
      ],
      "source": [
        "\n",
        "vec = CountVectorizer(strip_accents= 'ascii', stop_words='english')\n",
        "\n",
        "X_counts = vec.fit_transform(X_train[\"text\"])\n",
        "bow_df = pd.DataFrame(\n",
        "    X_counts.toarray(), columns=vec.get_feature_names_out(), index=X_train[\"text\"]\n",
        ")\n",
        "bow_df.shape"
      ]
    },
    {
      "cell_type": "code",
      "execution_count": 11,
      "metadata": {
        "colab": {
          "base_uri": "https://localhost:8080/"
        },
        "id": "ZfmlHMhIL5xy",
        "outputId": "f6310cd9-ac34-492d-af49-b41946e451dd"
      },
      "outputs": [
        {
          "output_type": "stream",
          "name": "stdout",
          "text": [
            "The number of rows and columns:  7613 21616\n",
            "The total number of elements:  164562608\n",
            "The number of non-zero elements:  73823\n",
            "Proportion of non-zero elements: 0.0004\n"
          ]
        }
      ],
      "source": [
        "print(\"The number of rows and columns: \", *X_counts.shape)\n",
        "print(\"The total number of elements: \", np.prod(X_counts.shape))\n",
        "print(\"The number of non-zero elements: \", X_counts.nnz)\n",
        "print(\n",
        "    \"Proportion of non-zero elements: %0.4f\" % (X_counts.nnz / np.prod(X_counts.shape))\n",
        ")"
      ]
    },
    {
      "cell_type": "markdown",
      "metadata": {
        "id": "NaDHX-qlMHP8"
      },
      "source": [
        "With this countvectorizer, there is very small proportion of non zero elements created using the count words vectorized. "
      ]
    },
    {
      "cell_type": "code",
      "execution_count": 12,
      "metadata": {
        "colab": {
          "base_uri": "https://localhost:8080/",
          "height": 315
        },
        "id": "k8yfkM5ZYNMm",
        "outputId": "0cfa5238-f16e-4dd2-c2c5-fa290febffc1"
      },
      "outputs": [
        {
          "output_type": "stream",
          "name": "stdout",
          "text": [
            "Best Score: 0.7192956429930152 Best Parameter: {'max_features': 10000}\n"
          ]
        },
        {
          "output_type": "execute_result",
          "data": {
            "text/plain": [
              "<matplotlib.axes._subplots.AxesSubplot at 0x7f344d1d6580>"
            ]
          },
          "metadata": {},
          "execution_count": 12
        },
        {
          "output_type": "display_data",
          "data": {
            "text/plain": [
              "<Figure size 432x288 with 1 Axes>"
            ],
            "image/png": "[encoded data removed]"
          },
          "metadata": {
            "needs_background": "light"
          }
        }
      ],
      "source": [
        "#optimization for max features in count vectorizer\n",
        "best_score = 0\n",
        "\n",
        "param_grid = {\n",
        "    \"max_features\": [100, 1000, 10_000, 100_000, 500_000],\n",
        "}\n",
        "\n",
        "results_dict = {\"max_features\": [], \"mean_cv_score\": [], \"mean_train_score\": [],}\n",
        "\n",
        "\n",
        "for max_features in param_grid[\"max_features\"]:\n",
        "    preprocessor = ColumnTransformer([('keyword/location', OneHotEncoder(handle_unknown='ignore'),['keyword', 'location']), \n",
        "                                  ('text', CountVectorizer(strip_accents='ascii', max_features = max_features), 'text')])\n",
        "    pipe = make_pipeline(\n",
        "        preprocessor,\n",
        "        LogisticRegression(max_iter=10000))\n",
        "    scores = cross_validate(pipe, X_train, y_train, cv=2, return_train_score=True)  # perform cross-validation\n",
        "    mean_score = np.mean(scores[\"test_score\"])  # compute mean cross-validation accuracy\n",
        "    if (\n",
        "        mean_score > best_score\n",
        "    ):  # if we got a better score, store the score and parameters\n",
        "        best_score = mean_score\n",
        "        best_parameters = {\"max_features\": max_features}\n",
        "    results_dict[\"max_features\"].append(max_features)\n",
        "    results_dict[\"mean_cv_score\"].append(mean_score)\n",
        "    results_dict[\"mean_train_score\"].append(np.mean(scores[\"train_score\"]))\n",
        "print(\"Best Score:\",best_score,\"Best Parameter:\",best_parameters)\n",
        "results_df = pd.DataFrame(results_dict)\n",
        "results_df = results_df.set_index(\"max_features\")\n",
        "results_df[[\"mean_train_score\", \"mean_cv_score\"]].plot()"
      ]
    },
    {
      "cell_type": "markdown",
      "metadata": {
        "id": "zIYmX8iCIFUH"
      },
      "source": [
        "The initial observations shows us that within the CountVectorizer our max_features achieves its best score very quickly around about 10,000 and then doesn't improve after that showing us we only need to test up to 10,000 max_features. "
      ]
    },
    {
      "cell_type": "markdown",
      "metadata": {
        "id": "wjeru4xeIFUI"
      },
      "source": [
        "<!-- END QUESTION -->\n",
        "\n",
        "<br><br>"
      ]
    },
    {
      "cell_type": "markdown",
      "metadata": {
        "id": "WrivBL63IFUI"
      },
      "source": [
        "<!-- BEGIN QUESTION -->\n",
        "\n",
        "## 4. Feature engineering <a name=\"4\"></a>\n",
        "<hr>\n",
        "\n",
        "**Your tasks:**\n",
        "\n",
        "1. Carry out feature engineering. In other words, extract new features relevant for the problem and work with your new feature set. You may have to go back and forth between feature engineering and preprocessing. Briefly explain why you come up with these new features.\n",
        "\n",
        "We figured that having a feature for the length, how many words are found in each tweet could be helpful features. Maybe having a longer tweet might show that it could be tied to some disaster. The code below is, adding these features to the data set. Length is just how many total characters are in the tweet, word_count is the number of things seperated by a space."
      ]
    },
    {
      "cell_type": "code",
      "execution_count": 13,
      "metadata": {
        "colab": {
          "base_uri": "https://localhost:8080/"
        },
        "id": "CS3wovMOIFUI",
        "outputId": "36efdc80-7899-4d94-a648-dc38639f7fab"
      },
      "outputs": [
        {
          "output_type": "stream",
          "name": "stderr",
          "text": [
            "<ipython-input-13-987d5f254dae>:8: SettingWithCopyWarning: \n",
            "A value is trying to be set on a copy of a slice from a DataFrame\n",
            "\n",
            "See the caveats in the documentation: https://pandas.pydata.org/pandas-docs/stable/user_guide/indexing.html#returning-a-view-versus-a-copy\n",
            "  X_train[\"length\"][i] = len(X_train[\"text\"][i])\n",
            "<ipython-input-13-987d5f254dae>:9: SettingWithCopyWarning: \n",
            "A value is trying to be set on a copy of a slice from a DataFrame\n",
            "\n",
            "See the caveats in the documentation: https://pandas.pydata.org/pandas-docs/stable/user_guide/indexing.html#returning-a-view-versus-a-copy\n",
            "  X_train[\"word_count\"][i] = len(X_train[\"text\"][i].split(\" \"))\n",
            "<ipython-input-13-987d5f254dae>:12: SettingWithCopyWarning: \n",
            "A value is trying to be set on a copy of a slice from a DataFrame\n",
            "\n",
            "See the caveats in the documentation: https://pandas.pydata.org/pandas-docs/stable/user_guide/indexing.html#returning-a-view-versus-a-copy\n",
            "  X_test[\"length\"][i] = len(X_test[\"text\"][i])\n",
            "<ipython-input-13-987d5f254dae>:13: SettingWithCopyWarning: \n",
            "A value is trying to be set on a copy of a slice from a DataFrame\n",
            "\n",
            "See the caveats in the documentation: https://pandas.pydata.org/pandas-docs/stable/user_guide/indexing.html#returning-a-view-versus-a-copy\n",
            "  X_test[\"word_count\"][i] = len(X_test[\"text\"][i].split(\" \"))\n"
          ]
        }
      ],
      "source": [
        "X_train[\"length\"] = 0\n",
        "X_test[\"length\"] = 0\n",
        "X_train[\"word_count\"] = 0\n",
        "X_test[\"word_count\"] = 0\n",
        "\n",
        "\n",
        "for i in X_train.index:\n",
        "    X_train[\"length\"][i] = len(X_train[\"text\"][i])\n",
        "    X_train[\"word_count\"][i] = len(X_train[\"text\"][i].split(\" \"))\n",
        "\n",
        "for i in X_test.index:\n",
        "    X_test[\"length\"][i] = len(X_test[\"text\"][i])\n",
        "    X_test[\"word_count\"][i] = len(X_test[\"text\"][i].split(\" \"))\n",
        "\n"
      ]
    },
    {
      "cell_type": "code",
      "execution_count": 14,
      "metadata": {
        "colab": {
          "base_uri": "https://localhost:8080/",
          "height": 455
        },
        "id": "65risbzWUJHd",
        "outputId": "0f5eec75-6541-4b0e-cc2b-b76f0a24049d"
      },
      "outputs": [
        {
          "output_type": "execute_result",
          "data": {
            "text/plain": [
              "      keyword location                                               text  \\\n",
              "id                                                                          \n",
              "1         NaN      NaN  Our Deeds are the Reason of this #earthquake M...   \n",
              "4         NaN      NaN             Forest fire near La Ronge Sask. Canada   \n",
              "5         NaN      NaN  All residents asked to 'shelter in place' are ...   \n",
              "6         NaN      NaN  13,000 people receive #wildfires evacuation or...   \n",
              "7         NaN      NaN  Just got sent this photo from Ruby #Alaska as ...   \n",
              "...       ...      ...                                                ...   \n",
              "10869     NaN      NaN  Two giant cranes holding a bridge collapse int...   \n",
              "10870     NaN      NaN  @aria_ahrary @TheTawniest The out of control w...   \n",
              "10871     NaN      NaN  M1.94 [01:04 UTC]?5km S of Volcano Hawaii. htt...   \n",
              "10872     NaN      NaN  Police investigating after an e-bike collided ...   \n",
              "10873     NaN      NaN  The Latest: More Homes Razed by Northern Calif...   \n",
              "\n",
              "       length  word_count  \n",
              "id                         \n",
              "1          69          13  \n",
              "4          38           7  \n",
              "5         133          22  \n",
              "6          65           9  \n",
              "7          88          17  \n",
              "...       ...         ...  \n",
              "10869      83          11  \n",
              "10870     125          20  \n",
              "10871      65           8  \n",
              "10872     137          19  \n",
              "10873      94          13  \n",
              "\n",
              "[7613 rows x 5 columns]"
            ],
            "text/html": [
              "\n",
              "  <div id=\"df-772d1487-34e8-47dd-a241-5cd414429b9a\">\n",
              "    <div class=\"colab-df-container\">\n",
              "      <div>\n",
              "<style scoped>\n",
              "    .dataframe tbody tr th:only-of-type {\n",
              "        vertical-align: middle;\n",
              "    }\n",
              "\n",
              "    .dataframe tbody tr th {\n",
              "        vertical-align: top;\n",
              "    }\n",
              "\n",
              "    .dataframe thead th {\n",
              "        text-align: right;\n",
              "    }\n",
              "</style>\n",
              "<table border=\"1\" class=\"dataframe\">\n",
              "  <thead>\n",
              "    <tr style=\"text-align: right;\">\n",
              "      <th></th>\n",
              "      <th>keyword</th>\n",
              "      <th>location</th>\n",
              "      <th>text</th>\n",
              "      <th>length</th>\n",
              "      <th>word_count</th>\n",
              "    </tr>\n",
              "    <tr>\n",
              "      <th>id</th>\n",
              "      <th></th>\n",
              "      <th></th>\n",
              "      <th></th>\n",
              "      <th></th>\n",
              "      <th></th>\n",
              "    </tr>\n",
              "  </thead>\n",
              "  <tbody>\n",
              "    <tr>\n",
              "      <th>1</th>\n",
              "      <td>NaN</td>\n",
              "      <td>NaN</td>\n",
              "      <td>Our Deeds are the Reason of this #earthquake M...</td>\n",
              "      <td>69</td>\n",
              "      <td>13</td>\n",
              "    </tr>\n",
              "    <tr>\n",
              "      <th>4</th>\n",
              "      <td>NaN</td>\n",
              "      <td>NaN</td>\n",
              "      <td>Forest fire near La Ronge Sask. Canada</td>\n",
              "      <td>38</td>\n",
              "      <td>7</td>\n",
              "    </tr>\n",
              "    <tr>\n",
              "      <th>5</th>\n",
              "      <td>NaN</td>\n",
              "      <td>NaN</td>\n",
              "      <td>All residents asked to 'shelter in place' are ...</td>\n",
              "      <td>133</td>\n",
              "      <td>22</td>\n",
              "    </tr>\n",
              "    <tr>\n",
              "      <th>6</th>\n",
              "      <td>NaN</td>\n",
              "      <td>NaN</td>\n",
              "      <td>13,000 people receive #wildfires evacuation or...</td>\n",
              "      <td>65</td>\n",
              "      <td>9</td>\n",
              "    </tr>\n",
              "    <tr>\n",
              "      <th>7</th>\n",
              "      <td>NaN</td>\n",
              "      <td>NaN</td>\n",
              "      <td>Just got sent this photo from Ruby #Alaska as ...</td>\n",
              "      <td>88</td>\n",
              "      <td>17</td>\n",
              "    </tr>\n",
              "    <tr>\n",
              "      <th>...</th>\n",
              "      <td>...</td>\n",
              "      <td>...</td>\n",
              "      <td>...</td>\n",
              "      <td>...</td>\n",
              "      <td>...</td>\n",
              "    </tr>\n",
              "    <tr>\n",
              "      <th>10869</th>\n",
              "      <td>NaN</td>\n",
              "      <td>NaN</td>\n",
              "      <td>Two giant cranes holding a bridge collapse int...</td>\n",
              "      <td>83</td>\n",
              "      <td>11</td>\n",
              "    </tr>\n",
              "    <tr>\n",
              "      <th>10870</th>\n",
              "      <td>NaN</td>\n",
              "      <td>NaN</td>\n",
              "      <td>@aria_ahrary @TheTawniest The out of control w...</td>\n",
              "      <td>125</td>\n",
              "      <td>20</td>\n",
              "    </tr>\n",
              "    <tr>\n",
              "      <th>10871</th>\n",
              "      <td>NaN</td>\n",
              "      <td>NaN</td>\n",
              "      <td>M1.94 [01:04 UTC]?5km S of Volcano Hawaii. htt...</td>\n",
              "      <td>65</td>\n",
              "      <td>8</td>\n",
              "    </tr>\n",
              "    <tr>\n",
              "      <th>10872</th>\n",
              "      <td>NaN</td>\n",
              "      <td>NaN</td>\n",
              "      <td>Police investigating after an e-bike collided ...</td>\n",
              "      <td>137</td>\n",
              "      <td>19</td>\n",
              "    </tr>\n",
              "    <tr>\n",
              "      <th>10873</th>\n",
              "      <td>NaN</td>\n",
              "      <td>NaN</td>\n",
              "      <td>The Latest: More Homes Razed by Northern Calif...</td>\n",
              "      <td>94</td>\n",
              "      <td>13</td>\n",
              "    </tr>\n",
              "  </tbody>\n",
              "</table>\n",
              "<p>7613 rows × 5 columns</p>\n",
              "</div>\n",
              "      <button class=\"colab-df-convert\" onclick=\"convertToInteractive('df-772d1487-34e8-47dd-a241-5cd414429b9a')\"\n",
              "              title=\"Convert this dataframe to an interactive table.\"\n",
              "              style=\"display:none;\">\n",
              "        \n",
              "  <svg xmlns=\"http://www.w3.org/2000/svg\" height=\"24px\"viewBox=\"0 0 24 24\"\n",
              "       width=\"24px\">\n",
              "    <path d=\"M0 0h24v24H0V0z\" fill=\"none\"/>\n",
              "    <path d=\"M18.56 5.44l.94 2.06.94-2.06 2.06-.94-2.06-.94-.94-2.06-.94 2.06-2.06.94zm-11 1L8.5 8.5l.94-2.06 2.06-.94-2.06-.94L8.5 2.5l-.94 2.06-2.06.94zm10 10l.94 2.06.94-2.06 2.06-.94-2.06-.94-.94-2.06-.94 2.06-2.06.94z\"/><path d=\"M17.41 7.96l-1.37-1.37c-.4-.4-.92-.59-1.43-.59-.52 0-1.04.2-1.43.59L10.3 9.45l-7.72 7.72c-.78.78-.78 2.05 0 2.83L4 21.41c.39.39.9.59 1.41.59.51 0 1.02-.2 1.41-.59l7.78-7.78 2.81-2.81c.8-.78.8-2.07 0-2.86zM5.41 20L4 18.59l7.72-7.72 1.47 1.35L5.41 20z\"/>\n",
              "  </svg>\n",
              "      </button>\n",
              "      \n",
              "  <style>\n",
              "    .colab-df-container {\n",
              "      display:flex;\n",
              "      flex-wrap:wrap;\n",
              "      gap: 12px;\n",
              "    }\n",
              "\n",
              "    .colab-df-convert {\n",
              "      background-color: #E8F0FE;\n",
              "      border: none;\n",
              "      border-radius: 50%;\n",
              "      cursor: pointer;\n",
              "      display: none;\n",
              "      fill: #1967D2;\n",
              "      height: 32px;\n",
              "      padding: 0 0 0 0;\n",
              "      width: 32px;\n",
              "    }\n",
              "\n",
              "    .colab-df-convert:hover {\n",
              "      background-color: #E2EBFA;\n",
              "      box-shadow: 0px 1px 2px rgba(60, 64, 67, 0.3), 0px 1px 3px 1px rgba(60, 64, 67, 0.15);\n",
              "      fill: #174EA6;\n",
              "    }\n",
              "\n",
              "    [theme=dark] .colab-df-convert {\n",
              "      background-color: #3B4455;\n",
              "      fill: #D2E3FC;\n",
              "    }\n",
              "\n",
              "    [theme=dark] .colab-df-convert:hover {\n",
              "      background-color: #434B5C;\n",
              "      box-shadow: 0px 1px 3px 1px rgba(0, 0, 0, 0.15);\n",
              "      filter: drop-shadow(0px 1px 2px rgba(0, 0, 0, 0.3));\n",
              "      fill: #FFFFFF;\n",
              "    }\n",
              "  </style>\n",
              "\n",
              "      <script>\n",
              "        const buttonEl =\n",
              "          document.querySelector('#df-772d1487-34e8-47dd-a241-5cd414429b9a button.colab-df-convert');\n",
              "        buttonEl.style.display =\n",
              "          google.colab.kernel.accessAllowed ? 'block' : 'none';\n",
              "\n",
              "        async function convertToInteractive(key) {\n",
              "          const element = document.querySelector('#df-772d1487-34e8-47dd-a241-5cd414429b9a');\n",
              "          const dataTable =\n",
              "            await google.colab.kernel.invokeFunction('convertToInteractive',\n",
              "                                                     [key], {});\n",
              "          if (!dataTable) return;\n",
              "\n",
              "          const docLinkHtml = 'Like what you see? Visit the ' +\n",
              "            '<a target=\"_blank\" href=https://colab.research.google.com/notebooks/data_table.ipynb>data table notebook</a>'\n",
              "            + ' to learn more about interactive tables.';\n",
              "          element.innerHTML = '';\n",
              "          dataTable['output_type'] = 'display_data';\n",
              "          await google.colab.output.renderOutput(dataTable, element);\n",
              "          const docLink = document.createElement('div');\n",
              "          docLink.innerHTML = docLinkHtml;\n",
              "          element.appendChild(docLink);\n",
              "        }\n",
              "      </script>\n",
              "    </div>\n",
              "  </div>\n",
              "  "
            ]
          },
          "metadata": {},
          "execution_count": 14
        }
      ],
      "source": [
        "X_train"
      ]
    },
    {
      "cell_type": "markdown",
      "metadata": {
        "id": "vBE7DZYQIFUI"
      },
      "source": [
        "<!-- END QUESTION -->\n",
        "\n",
        "<br><br>"
      ]
    },
    {
      "cell_type": "markdown",
      "metadata": {
        "id": "uOHCoKXbIFUI"
      },
      "source": [
        "<!-- BEGIN QUESTION -->\n",
        "\n",
        "## 5. Preprocessing and transformations <a name=\"5\"></a>\n",
        "<hr>\n",
        "\n",
        "**Your tasks:**\n",
        "\n",
        "1. Identify different feature types and the transformations you would apply on each feature type. \n",
        "2. Define a column transformer, if necessary. \n",
        "\n",
        "\n",
        "In our data there are 3 different types of features we are going to use, numerical which will use a StandardScaler to transform the data, categorical which will use an OneHotEncoder, and text which will use a CountVectorizer. Our numerical features are length and word count. Our categorial features are keyword and location. "
      ]
    },
    {
      "cell_type": "code",
      "execution_count": 15,
      "metadata": {
        "id": "PRbg8A41IFUI"
      },
      "outputs": [],
      "source": [
        "preprocessor = ColumnTransformer([('keyword/location', OneHotEncoder(handle_unknown='ignore'),['keyword', 'location']), \n",
        "                                  ('text', CountVectorizer(stop_words=\"english\", strip_accents='ascii'), 'text'),\n",
        "                                  ('length/word_count', StandardScaler(), ['length', 'word_count']),\n",
        "                                  ])\n"
      ]
    },
    {
      "cell_type": "markdown",
      "metadata": {
        "id": "xgCFbUGLIFUI"
      },
      "source": [
        "<!-- END QUESTION -->\n",
        "\n",
        "<br><br>"
      ]
    },
    {
      "cell_type": "markdown",
      "metadata": {
        "id": "gc9Zh19DIFUJ"
      },
      "source": [
        "<!-- BEGIN QUESTION -->\n",
        "\n",
        "## 6. Baseline model <a name=\"6\"></a>\n",
        "<hr>\n",
        "\n",
        "**Your tasks:**\n",
        "1. Try `scikit-learn`'s baseline model and report results."
      ]
    },
    {
      "cell_type": "code",
      "execution_count": 16,
      "metadata": {
        "colab": {
          "base_uri": "https://localhost:8080/"
        },
        "id": "hsX6cmeIIFUJ",
        "outputId": "748a80de-df1e-4c01-b654-ae81ec671ecd"
      },
      "outputs": [
        {
          "output_type": "stream",
          "name": "stdout",
          "text": [
            "[0.56992777 0.57058437 0.57058437 0.57030223 0.57030223]\n"
          ]
        }
      ],
      "source": [
        "# Your code here\n",
        "\n",
        "dummy = DummyClassifier(strategy= \"most_frequent\")\n",
        "\n",
        "\n",
        "some_results = cross_val_score(dummy, X_train, y_train, cv=5)\n",
        "print(some_results)"
      ]
    },
    {
      "cell_type": "markdown",
      "metadata": {
        "id": "aKDeXwxDRa5f"
      },
      "source": [
        "The dummy regressor with strategery of \"most frequent\" saw accuracy of about .57 across the 5 cross validation folds"
      ]
    },
    {
      "cell_type": "markdown",
      "metadata": {
        "id": "lPO7x3TVIFUJ"
      },
      "source": [
        "<!-- END QUESTION -->\n",
        "\n",
        "<br><br>"
      ]
    },
    {
      "cell_type": "markdown",
      "metadata": {
        "id": "ZTUcF10_IFUJ"
      },
      "source": [
        "<!-- BEGIN QUESTION -->\n",
        "\n",
        "## 7. Linear models <a name=\"7\"></a>\n",
        "<hr>\n",
        "\n",
        "**Your tasks:**\n",
        "\n",
        "1. Try a linear model as a first real attempt. \n",
        "2. Carry out hyperparameter tuning to explore different values for the complexity hyperparameter. \n",
        "3. Report cross-validation scores along with standard deviation. \n",
        "4. Summarize your results."
      ]
    },
    {
      "cell_type": "code",
      "execution_count": 17,
      "metadata": {
        "colab": {
          "base_uri": "https://localhost:8080/"
        },
        "id": "HH69fFLrIFUJ",
        "outputId": "752dc1db-b104-4c62-c4a3-d16e081a473a"
      },
      "outputs": [
        {
          "output_type": "stream",
          "name": "stdout",
          "text": [
            "The best score is  0.7070808868968177\n",
            "The best C value is  {'C': 0.31622776601683794}\n"
          ]
        }
      ],
      "source": [
        "# Your code here\n",
        "\n",
        "\n",
        "best_score = 0\n",
        "\n",
        "param_grid = {\n",
        "    \"C\": 10.0 ** np.arange(-1.5, 2, 0.5),\n",
        "}\n",
        "\n",
        "results_dict = {\"C\": [], \"mean_cv_score\": [], \"standard dev\": [] }\n",
        "\n",
        "\n",
        "for C in param_grid[\"C\"]:  # for each combination of parameters, train an SVC\n",
        "    preprocessor = ColumnTransformer([('keyword/location', OneHotEncoder(handle_unknown='ignore'),['keyword', 'location']), \n",
        "                                  ('text', CountVectorizer(stop_words=\"english\",   strip_accents='ascii'), 'text')])\n",
        "    pipe = make_pipeline(\n",
        "        preprocessor,\n",
        "        LogisticRegression(max_iter=10000, C=C),)\n",
        "    \n",
        "    scores = cross_val_score(pipe, X_train, y_train, cv=2)  # perform cross-validation\n",
        "    mean_score = np.mean(scores)  # compute mean cross-validation accuracy\n",
        "    if (\n",
        "        mean_score > best_score\n",
        "    ):  # if we got a better score, store the score and parameters\n",
        "        best_score = mean_score\n",
        "        best_parameters = {\"C\": C}\n",
        "    results_dict[\"C\"].append(C)\n",
        "    results_dict[\"mean_cv_score\"].append(mean_score)\n",
        "    results_dict[\"standard dev\"].append(scores.std())\n",
        "print(\"The best score is \", best_score)\n",
        "print(\"The best C value is \", best_parameters)"
      ]
    },
    {
      "cell_type": "code",
      "execution_count": 18,
      "metadata": {
        "colab": {
          "base_uri": "https://localhost:8080/",
          "height": 269
        },
        "id": "EllC3i6CQHTA",
        "outputId": "8cc279a4-726a-4e38-aa25-a83f11016c81"
      },
      "outputs": [
        {
          "output_type": "execute_result",
          "data": {
            "text/plain": [
              "           C  mean_cv_score  standard dev\n",
              "0   0.031623       0.675689      0.016639\n",
              "1   0.100000       0.696836      0.012307\n",
              "2   0.316228       0.707081      0.006792\n",
              "3   1.000000       0.705898      0.000433\n",
              "4   3.162278       0.702745      0.001747\n",
              "5  10.000000       0.696308      0.005557\n",
              "6  31.622777       0.694338      0.006214"
            ],
            "text/html": [
              "\n",
              "  <div id=\"df-9d78ca16-cf35-4085-9131-3696ff781d93\">\n",
              "    <div class=\"colab-df-container\">\n",
              "      <div>\n",
              "<style scoped>\n",
              "    .dataframe tbody tr th:only-of-type {\n",
              "        vertical-align: middle;\n",
              "    }\n",
              "\n",
              "    .dataframe tbody tr th {\n",
              "        vertical-align: top;\n",
              "    }\n",
              "\n",
              "    .dataframe thead th {\n",
              "        text-align: right;\n",
              "    }\n",
              "</style>\n",
              "<table border=\"1\" class=\"dataframe\">\n",
              "  <thead>\n",
              "    <tr style=\"text-align: right;\">\n",
              "      <th></th>\n",
              "      <th>C</th>\n",
              "      <th>mean_cv_score</th>\n",
              "      <th>standard dev</th>\n",
              "    </tr>\n",
              "  </thead>\n",
              "  <tbody>\n",
              "    <tr>\n",
              "      <th>0</th>\n",
              "      <td>0.031623</td>\n",
              "      <td>0.675689</td>\n",
              "      <td>0.016639</td>\n",
              "    </tr>\n",
              "    <tr>\n",
              "      <th>1</th>\n",
              "      <td>0.100000</td>\n",
              "      <td>0.696836</td>\n",
              "      <td>0.012307</td>\n",
              "    </tr>\n",
              "    <tr>\n",
              "      <th>2</th>\n",
              "      <td>0.316228</td>\n",
              "      <td>0.707081</td>\n",
              "      <td>0.006792</td>\n",
              "    </tr>\n",
              "    <tr>\n",
              "      <th>3</th>\n",
              "      <td>1.000000</td>\n",
              "      <td>0.705898</td>\n",
              "      <td>0.000433</td>\n",
              "    </tr>\n",
              "    <tr>\n",
              "      <th>4</th>\n",
              "      <td>3.162278</td>\n",
              "      <td>0.702745</td>\n",
              "      <td>0.001747</td>\n",
              "    </tr>\n",
              "    <tr>\n",
              "      <th>5</th>\n",
              "      <td>10.000000</td>\n",
              "      <td>0.696308</td>\n",
              "      <td>0.005557</td>\n",
              "    </tr>\n",
              "    <tr>\n",
              "      <th>6</th>\n",
              "      <td>31.622777</td>\n",
              "      <td>0.694338</td>\n",
              "      <td>0.006214</td>\n",
              "    </tr>\n",
              "  </tbody>\n",
              "</table>\n",
              "</div>\n",
              "      <button class=\"colab-df-convert\" onclick=\"convertToInteractive('df-9d78ca16-cf35-4085-9131-3696ff781d93')\"\n",
              "              title=\"Convert this dataframe to an interactive table.\"\n",
              "              style=\"display:none;\">\n",
              "        \n",
              "  <svg xmlns=\"http://www.w3.org/2000/svg\" height=\"24px\"viewBox=\"0 0 24 24\"\n",
              "       width=\"24px\">\n",
              "    <path d=\"M0 0h24v24H0V0z\" fill=\"none\"/>\n",
              "    <path d=\"M18.56 5.44l.94 2.06.94-2.06 2.06-.94-2.06-.94-.94-2.06-.94 2.06-2.06.94zm-11 1L8.5 8.5l.94-2.06 2.06-.94-2.06-.94L8.5 2.5l-.94 2.06-2.06.94zm10 10l.94 2.06.94-2.06 2.06-.94-2.06-.94-.94-2.06-.94 2.06-2.06.94z\"/><path d=\"M17.41 7.96l-1.37-1.37c-.4-.4-.92-.59-1.43-.59-.52 0-1.04.2-1.43.59L10.3 9.45l-7.72 7.72c-.78.78-.78 2.05 0 2.83L4 21.41c.39.39.9.59 1.41.59.51 0 1.02-.2 1.41-.59l7.78-7.78 2.81-2.81c.8-.78.8-2.07 0-2.86zM5.41 20L4 18.59l7.72-7.72 1.47 1.35L5.41 20z\"/>\n",
              "  </svg>\n",
              "      </button>\n",
              "      \n",
              "  <style>\n",
              "    .colab-df-container {\n",
              "      display:flex;\n",
              "      flex-wrap:wrap;\n",
              "      gap: 12px;\n",
              "    }\n",
              "\n",
              "    .colab-df-convert {\n",
              "      background-color: #E8F0FE;\n",
              "      border: none;\n",
              "      border-radius: 50%;\n",
              "      cursor: pointer;\n",
              "      display: none;\n",
              "      fill: #1967D2;\n",
              "      height: 32px;\n",
              "      padding: 0 0 0 0;\n",
              "      width: 32px;\n",
              "    }\n",
              "\n",
              "    .colab-df-convert:hover {\n",
              "      background-color: #E2EBFA;\n",
              "      box-shadow: 0px 1px 2px rgba(60, 64, 67, 0.3), 0px 1px 3px 1px rgba(60, 64, 67, 0.15);\n",
              "      fill: #174EA6;\n",
              "    }\n",
              "\n",
              "    [theme=dark] .colab-df-convert {\n",
              "      background-color: #3B4455;\n",
              "      fill: #D2E3FC;\n",
              "    }\n",
              "\n",
              "    [theme=dark] .colab-df-convert:hover {\n",
              "      background-color: #434B5C;\n",
              "      box-shadow: 0px 1px 3px 1px rgba(0, 0, 0, 0.15);\n",
              "      filter: drop-shadow(0px 1px 2px rgba(0, 0, 0, 0.3));\n",
              "      fill: #FFFFFF;\n",
              "    }\n",
              "  </style>\n",
              "\n",
              "      <script>\n",
              "        const buttonEl =\n",
              "          document.querySelector('#df-9d78ca16-cf35-4085-9131-3696ff781d93 button.colab-df-convert');\n",
              "        buttonEl.style.display =\n",
              "          google.colab.kernel.accessAllowed ? 'block' : 'none';\n",
              "\n",
              "        async function convertToInteractive(key) {\n",
              "          const element = document.querySelector('#df-9d78ca16-cf35-4085-9131-3696ff781d93');\n",
              "          const dataTable =\n",
              "            await google.colab.kernel.invokeFunction('convertToInteractive',\n",
              "                                                     [key], {});\n",
              "          if (!dataTable) return;\n",
              "\n",
              "          const docLinkHtml = 'Like what you see? Visit the ' +\n",
              "            '<a target=\"_blank\" href=https://colab.research.google.com/notebooks/data_table.ipynb>data table notebook</a>'\n",
              "            + ' to learn more about interactive tables.';\n",
              "          element.innerHTML = '';\n",
              "          dataTable['output_type'] = 'display_data';\n",
              "          await google.colab.output.renderOutput(dataTable, element);\n",
              "          const docLink = document.createElement('div');\n",
              "          docLink.innerHTML = docLinkHtml;\n",
              "          element.appendChild(docLink);\n",
              "        }\n",
              "      </script>\n",
              "    </div>\n",
              "  </div>\n",
              "  "
            ]
          },
          "metadata": {},
          "execution_count": 18
        }
      ],
      "source": [
        "df = pd.DataFrame.from_dict(results_dict)\n",
        "\n",
        "df"
      ]
    },
    {
      "cell_type": "markdown",
      "metadata": {
        "id": "lH2v4X2YRmvH"
      },
      "source": [
        "The best model with best score was C with value of 0.316.\n",
        "However, the model with the small deviation was the C = 1. It is probably the best choice of C because it it has the smallest standard deviation, and it the mean cross validation score is only a little lower than the best one. We can see that all our average cv scores are around 70%."
      ]
    },
    {
      "cell_type": "markdown",
      "metadata": {
        "id": "wTtz27v0IFUJ"
      },
      "source": [
        "<!-- BEGIN QUESTION -->\n",
        "\n",
        "## 8. Different models <a name=\"8\"></a>\n",
        "<hr>\n",
        "\n",
        "**Your tasks:**\n",
        "1. Try other models aside from a linear model. One of these models should be a tree-based ensemble model. \n",
        "2. Summarize your results in terms of overfitting/underfitting and fit and score times. Can you beat a linear model? "
      ]
    },
    {
      "cell_type": "code",
      "execution_count": 19,
      "metadata": {
        "id": "t8wAK0AZIFUJ"
      },
      "outputs": [],
      "source": [
        "\n",
        "def try_model(model, cv_num = 5):\n",
        "    preprocessor = ColumnTransformer([('keyword/location', OneHotEncoder(handle_unknown='ignore'),['keyword', 'location']), \n",
        "                                  ('text', CountVectorizer(stop_words=\"english\", strip_accents='ascii'), 'text'),\n",
        "                                  ('length/word_count', StandardScaler(), ['length', 'word_count']),\n",
        "                                  ])\n",
        "\n",
        "    pipe = make_pipeline(preprocessor, model)\n",
        "    cross_val_results = pd.DataFrame(\n",
        "        cross_validate(pipe, X_train, y_train, cv =cv_num, return_train_score=True)\n",
        "    )\n",
        "    # return cross_val_results\n",
        "    return \"Average test score:\", cross_val_results['test_score'].mean(), \"Average train score:\", cross_val_results['train_score'].mean(), \"Average score time:\", cross_val_results['score_time'].mean()\n",
        "    \n"
      ]
    },
    {
      "cell_type": "markdown",
      "metadata": {
        "id": "f_6OP2V1U8Yu"
      },
      "source": [
        "LGMB Classifier\n",
        "\n"
      ]
    },
    {
      "cell_type": "code",
      "execution_count": 20,
      "metadata": {
        "colab": {
          "base_uri": "https://localhost:8080/"
        },
        "id": "B-owJyRyTUoY",
        "outputId": "36c35235-9acd-4767-f926-c338f10c9bc0"
      },
      "outputs": [
        {
          "output_type": "stream",
          "name": "stdout",
          "text": [
            "('Average test score:', 0.6742505411979088, 'Average train score:', 0.8476621487084636, 'Average score time:', 0.03832311630249023)\n"
          ]
        }
      ],
      "source": [
        "from lightgbm import LGBMClassifier\n",
        "\n",
        "model = LGBMClassifier(max_depth=200)\n",
        "table1 = try_model(model)\n",
        "\n",
        "print(table1)\n"
      ]
    },
    {
      "cell_type": "markdown",
      "metadata": {
        "id": "sy9yXKVbVV4H"
      },
      "source": [
        "Ridge Classifier"
      ]
    },
    {
      "cell_type": "code",
      "execution_count": 21,
      "metadata": {
        "colab": {
          "base_uri": "https://localhost:8080/"
        },
        "id": "MCUOAUMyU51L",
        "outputId": "ae09afe6-9592-49d5-d230-67fa4f32096a"
      },
      "outputs": [
        {
          "output_type": "stream",
          "name": "stdout",
          "text": [
            "('Average test score:', 0.6357592689578888, 'Average train score:', 0.9978983555106608, 'Average score time:', 0.04566292762756348)\n"
          ]
        }
      ],
      "source": [
        "\n",
        "model = RidgeClassifier()\n",
        "table2 = try_model(model)\n",
        "\n",
        "print(table2)"
      ]
    },
    {
      "cell_type": "markdown",
      "metadata": {
        "id": "V8Y5FyqqV5qk"
      },
      "source": [
        "Random Forest"
      ]
    },
    {
      "cell_type": "code",
      "execution_count": 22,
      "metadata": {
        "colab": {
          "base_uri": "https://localhost:8080/"
        },
        "id": "z1NiVXVmV5Dm",
        "outputId": "5480d4a7-5210-4152-cf88-6af6f5b2882c"
      },
      "outputs": [
        {
          "output_type": "stream",
          "name": "stdout",
          "text": [
            "('Average test score:', 0.6301176097042026, 'Average train score:', 0.9982595657163561, 'Average score time:', 0.14668164253234864)\n"
          ]
        }
      ],
      "source": [
        "model = RandomForestClassifier()\n",
        "table3 = try_model(model, 5)\n",
        "\n",
        "print(table3)"
      ]
    },
    {
      "cell_type": "markdown",
      "metadata": {
        "id": "u47WkRS8cTHU"
      },
      "source": [
        "SVC"
      ]
    },
    {
      "cell_type": "code",
      "execution_count": 23,
      "metadata": {
        "colab": {
          "base_uri": "https://localhost:8080/"
        },
        "id": "PkBUmIT2cSG7",
        "outputId": "a99797c6-0eac-4cbc-a6a1-4929c7a3f27f"
      },
      "outputs": [
        {
          "output_type": "stream",
          "name": "stdout",
          "text": [
            "('Average test score:', 0.6871250548963204, 'Average train score:', 0.9464074239119388, 'Average score time:', 0.6815409660339355)\n"
          ]
        }
      ],
      "source": [
        "model = SVC()\n",
        "table4 = try_model(model, 5)\n",
        "\n",
        "print(table4)"
      ]
    },
    {
      "cell_type": "markdown",
      "metadata": {
        "id": "mWUxnOE10tgg"
      },
      "source": [
        "Decision Tree "
      ]
    },
    {
      "cell_type": "code",
      "execution_count": 24,
      "metadata": {
        "colab": {
          "base_uri": "https://localhost:8080/"
        },
        "id": "3uQqI5hy0Ovp",
        "outputId": "ebf093cf-05cb-4a20-82c5-e0023af09e5a"
      },
      "outputs": [
        {
          "output_type": "stream",
          "name": "stdout",
          "text": [
            "('Average test score:', 0.6186855426603728, 'Average train score:', 0.9949100816057717, 'Average score time:', 0.028146934509277344)\n"
          ]
        }
      ],
      "source": [
        "from sklearn.tree import DecisionTreeClassifier\n",
        "\n",
        "model = DecisionTreeClassifier(max_depth = 200)\n",
        "\n",
        "table5 = try_model(model, 5)\n",
        "print(table5)"
      ]
    },
    {
      "cell_type": "markdown",
      "metadata": {
        "id": "19NUJU3V0409"
      },
      "source": [
        "Logistic Regressor\n"
      ]
    },
    {
      "cell_type": "code",
      "execution_count": 25,
      "metadata": {
        "colab": {
          "base_uri": "https://localhost:8080/"
        },
        "id": "5INZMZLu0vn6",
        "outputId": "7eef4466-a725-4903-f88c-db10c8468f3e"
      },
      "outputs": [
        {
          "output_type": "stream",
          "name": "stdout",
          "text": [
            "('Average test score:', 0.6674172543125427, 'Average train score:', 0.9766189583867447, 'Average score time:', 0.058579635620117185)\n"
          ]
        }
      ],
      "source": [
        "model = LogisticRegression(max_iter=10000 )\n",
        "\n",
        "table6 = try_model(model, 5)\n",
        "print(table6)"
      ]
    },
    {
      "cell_type": "markdown",
      "source": [
        "Almost all of our models got around the same train scores and same test scores. With hyperparameterization with our linear model none of our new models could beat it. Although, they were only a few decimals off. The fastest model was our decision tree but only by .05 of a second. We can see that there is about 0.3 between our test score and train score for each model showing that we are dealing with some over fitting. "
      ],
      "metadata": {
        "id": "kr_iCPM88D4f"
      }
    },
    {
      "cell_type": "markdown",
      "metadata": {
        "id": "RIkK9MwfIFUK"
      },
      "source": [
        "<!-- BEGIN QUESTION -->\n",
        "\n",
        "## 9. Feature selection <a name=\"9\"></a>\n",
        "<hr>\n",
        "\n",
        "**Your tasks:**\n",
        "\n",
        "Make some attempts to select relevant features. Do the results improve with feature selection? Summarize your results. If you see improvements in the results, keep feature selection in your pipeline. If not, you may abandon it. "
      ]
    },
    {
      "cell_type": "markdown",
      "metadata": {
        "id": "UTDdVR1pIFUK"
      },
      "source": [
        "We decided to use all of our features and the new features we created. We attempted to only use the tweets themselves to see if it would improve our model but it did not. In the end using all of our features in our pipeline gave us the best score. "
      ]
    },
    {
      "cell_type": "markdown",
      "metadata": {
        "id": "0KkXqk5TIFUK"
      },
      "source": [
        "<!-- BEGIN QUESTION -->\n",
        "\n",
        "## 10. Hyperparameter optimization <a name=\"10\"></a>\n",
        "<hr>\n",
        "\n",
        "**Your tasks:**\n",
        "\n",
        "Make some attempts to optimize hyperparameters for the models you've tried and summarize your results. In at least one case you should be optimizing multiple hyperparameters for a single model. You may use `sklearn`'s methods for hyperparameter optimization or fancier Bayesian optimization methods. \n",
        "  - [GridSearchCV](http://scikit-learn.org/stable/modules/generated/sklearn.model_selection.GridSearchCV.html)   \n",
        "  - [RandomizedSearchCV](http://scikit-learn.org/stable/modules/generated/sklearn.model_selection.RandomizedSearchCV.html)\n",
        "  - [scikit-optimize](https://github.com/scikit-optimize/scikit-optimize) "
      ]
    },
    {
      "cell_type": "code",
      "execution_count": 26,
      "metadata": {
        "id": "t52mcVfsnDXe"
      },
      "outputs": [],
      "source": [
        "preprocessor = ColumnTransformer([('keyword/location', OneHotEncoder(handle_unknown='ignore'),['keyword', 'location']), \n",
        "                                  ('text', CountVectorizer(stop_words=\"english\", strip_accents='ascii'), 'text'),\n",
        "                                  ('length/word_count', StandardScaler(), ['length', 'word_count']),\n",
        "                                  ])"
      ]
    },
    {
      "cell_type": "code",
      "execution_count": 27,
      "metadata": {
        "colab": {
          "base_uri": "https://localhost:8080/"
        },
        "id": "5wOQi-9RIFUK",
        "outputId": "379b4f99-0e06-4fb8-a255-a5405c0dddc7"
      },
      "outputs": [
        {
          "output_type": "stream",
          "name": "stdout",
          "text": [
            "Best score 0.7524187081220887\n",
            "Best params {'columntransformer__text__max_features': 100000, 'logisticregression__C': 0.1}\n"
          ]
        }
      ],
      "source": [
        "classifier = LogisticRegression(max_iter=10000,)\n",
        "\n",
        "\n",
        "param_dist = {\"logisticregression__C\": 10.0 ** np.arange(-1.5, 2, 0.5),\n",
        "              \"columntransformer__text__max_features\" : [100, 1000, 10_000, 100_000,200_000],\n",
        "              }\n",
        "\n",
        "pipe = make_pipeline(preprocessor, classifier)\n",
        "\n",
        "search = GridSearchCV(\n",
        "    pipe, param_dist, cv=4, n_jobs=-1, scoring = \"roc_auc\"\n",
        ")\n",
        "\n",
        "search.estimator.get_params().keys()\n",
        "\n",
        "search.fit(X_train, y_train)\n",
        "\n",
        "print(\"Best score\", search.best_score_)\n",
        "print(\"Best params\", search.best_params_)"
      ]
    },
    {
      "cell_type": "markdown",
      "metadata": {
        "id": "R7dE1BC8IFUK"
      },
      "source": [
        "We can see that from our grid search to find the best parameters we found that the best score is given by a C= 0.1 , (but C=0.316 tests better). in the LogisticRegression and a max_features=10000 in the CountVectorizer. "
      ]
    },
    {
      "cell_type": "code",
      "execution_count": 28,
      "metadata": {
        "colab": {
          "base_uri": "https://localhost:8080/"
        },
        "id": "LtAAuMP_b956",
        "outputId": "3859a8db-abd7-4711-848d-e5114a856860"
      },
      "outputs": [
        {
          "output_type": "stream",
          "name": "stdout",
          "text": [
            "Best score 0.7569558085147121\n",
            "Best params {'svc__C': 1.0, 'columntransformer__text__max_features': 10000}\n"
          ]
        }
      ],
      "source": [
        "svc_classifier = SVC()\n",
        "\n",
        "param_dist = {\"svc__C\":  10.0 ** np.arange(-1.5, 2, 0.5),\n",
        "              \"columntransformer__text__max_features\" :  [10_000, 100_000, 50_000],\n",
        "              }\n",
        "\n",
        "pipe = make_pipeline(preprocessor, svc_classifier)\n",
        "\n",
        "random_search = RandomizedSearchCV(\n",
        "    pipe, param_dist, cv=4, n_jobs=-1, scoring = \"roc_auc\"\n",
        ")\n",
        "\n",
        "random_search.estimator.get_params().keys()\n",
        "\n",
        "random_search.fit(X_train, y_train)\n",
        "\n",
        "print(\"Best score\", random_search.best_score_)\n",
        "print(\"Best params\", random_search.best_params_)"
      ]
    },
    {
      "cell_type": "code",
      "execution_count": 29,
      "metadata": {
        "colab": {
          "base_uri": "https://localhost:8080/"
        },
        "id": "iE_zxujZpwgq",
        "outputId": "b870dfb7-233f-4d1a-8578-54c589a74244"
      },
      "outputs": [
        {
          "output_type": "stream",
          "name": "stdout",
          "text": [
            "Best score 0.7159790473245486\n",
            "Best params {'lgbmclassifier__max_depth': 200, 'lgbmclassifier__learning_rate': 0.1, 'columntransformer__text__max_features': 1000}\n"
          ]
        }
      ],
      "source": [
        "preprocessor = ColumnTransformer([('keyword/location', OneHotEncoder(handle_unknown='ignore'),['keyword', 'location']), \n",
        "                                  ('text', CountVectorizer(stop_words=\"english\", strip_accents='ascii'), 'text'),\n",
        "                                  ('length/word_count', StandardScaler(), ['length', 'word_count']),\n",
        "                                  ])\n",
        "\n",
        "LGBM_classifier = LGBMClassifier()\n",
        "\n",
        "\n",
        "param_dist = {\"columntransformer__text__max_features\" : [1000, 10_000, 100_000],\n",
        "              \"lgbmclassifier__max_depth\": [50, 100, 200, 500],\n",
        "              \"lgbmclassifier__learning_rate\": [.1, .25, .5]\n",
        "              }\n",
        "\n",
        "pipe = make_pipeline(preprocessor, LGBM_classifier)\n",
        "\n",
        "random_search = RandomizedSearchCV(\n",
        "    pipe, param_dist, cv=4, n_jobs=-1, scoring = \"roc_auc\"\n",
        ")\n",
        "\n",
        "random_search.estimator.get_params().keys()\n",
        "\n",
        "random_search.fit(X_train, y_train)\n",
        "\n",
        "print(\"Best score\", random_search.best_score_)\n",
        "print(\"Best params\", random_search.best_params_)"
      ]
    },
    {
      "cell_type": "markdown",
      "source": [
        "We tried to submit all of these to Kaggle and the best one was the Logistic Regeressor with a score of 0.80416."
      ],
      "metadata": {
        "id": "yKFfva8zs64t"
      }
    },
    {
      "cell_type": "markdown",
      "metadata": {
        "id": "hIOCaWqWIFUK"
      },
      "source": [
        "<!-- END QUESTION -->\n",
        "\n",
        "<br><br>"
      ]
    },
    {
      "cell_type": "markdown",
      "metadata": {
        "id": "2VTGIsN9IFUK"
      },
      "source": [
        "<!-- BEGIN QUESTION -->\n",
        "\n",
        "## 11. Interpretation and feature importances <a name=\"11\"></a>\n",
        "<hr>\n",
        "\n",
        "**Your tasks:**\n",
        "\n",
        "1. Use the methods we saw in class (e.g., `eli5`, `shap`) (or any other methods of your choice) to examine the most important features of one of the non-linear models. \n",
        "2. Summarize your observations. "
      ]
    },
    {
      "cell_type": "code",
      "execution_count": 30,
      "metadata": {
        "id": "HwU_sMuaIFUK"
      },
      "outputs": [],
      "source": [
        "# Your code here\n",
        "\n",
        "\n",
        "countVec = CountVectorizer(stop_words=\"english\", strip_accents='ascii')\n",
        "\n",
        "X_counts = countVec.fit_transform(X_train[\"text\"])\n",
        "bow_df = pd.DataFrame(\n",
        "    X_counts.toarray(), columns=countVec.get_feature_names_out(), index=X_train[\"text\"]\n",
        ")\n"
      ]
    },
    {
      "cell_type": "code",
      "execution_count": 31,
      "metadata": {
        "colab": {
          "base_uri": "https://localhost:8080/"
        },
        "id": "vhzn0beOy4-6",
        "outputId": "4e607c65-c650-4ba0-dd52-78ec94353d8c"
      },
      "outputs": [
        {
          "output_type": "stream",
          "name": "stdout",
          "text": [
            "13 wreck\n",
            "9 gt\n",
            "4 bus\n",
            "4 clev\n",
            "4 lt\n",
            "4 issues\n",
            "4 ha\n",
            "4 check\n",
            "4 bestnaijamade\n",
            "4 hey\n",
            "4 fucking\n",
            "4 http\n",
            "4 built\n",
            "4 6aug\n",
            "3 save\n"
          ]
        }
      ],
      "source": [
        "x = bow_df.max().sort_values(ascending=False)\n",
        "\n",
        "for i in range(15):\n",
        "  print(x.iloc[i], x.index[i])\n"
      ]
    },
    {
      "cell_type": "code",
      "execution_count": 32,
      "metadata": {
        "id": "LeJIjFip26C2",
        "colab": {
          "base_uri": "https://localhost:8080/"
        },
        "outputId": "679b81af-1212-4974-92e8-a415b5479897"
      },
      "outputs": [
        {
          "output_type": "execute_result",
          "data": {
            "text/plain": [
              "Pipeline(steps=[('columntransformer',\n",
              "                 ColumnTransformer(transformers=[('keyword/location',\n",
              "                                                  OneHotEncoder(handle_unknown='ignore'),\n",
              "                                                  ['keyword', 'location']),\n",
              "                                                 ('text',\n",
              "                                                  CountVectorizer(max_features=100000,\n",
              "                                                                  stop_words='english',\n",
              "                                                                  strip_accents='ascii'),\n",
              "                                                  'text'),\n",
              "                                                 ('length/word_count',\n",
              "                                                  StandardScaler(),\n",
              "                                                  ['length', 'word_count'])])),\n",
              "                ('logisticregression',\n",
              "                 LogisticRegression(C=0.316228, max_iter=10000))])"
            ]
          },
          "metadata": {},
          "execution_count": 32
        }
      ],
      "source": [
        "preprocessor = ColumnTransformer([('keyword/location', OneHotEncoder(handle_unknown='ignore'),['keyword', 'location']), \n",
        "                                  ('text', CountVectorizer(stop_words=\"english\", strip_accents='ascii', max_features = 100000), 'text'),\n",
        "                                  ('length/word_count', StandardScaler(), ['length', 'word_count']),\n",
        "                                  ])\n",
        "\n",
        "classifier = LogisticRegression(max_iter=10000,C = 0.316228)\n",
        "\n",
        "pipe = make_pipeline(preprocessor, classifier)\n",
        "\n",
        "pipe.fit(X_train, y_train) # train a logistic regression classifier on the entire training set\n"
      ]
    },
    {
      "cell_type": "code",
      "execution_count": 33,
      "metadata": {
        "id": "-UDAffYo3e-A",
        "colab": {
          "base_uri": "https://localhost:8080/"
        },
        "outputId": "d761b5e2-de76-4c05-bf13-684a291768fa"
      },
      "outputs": [
        {
          "output_type": "stream",
          "name": "stdout",
          "text": [
            "keyword                                                 bombing\n",
            "location                                                 London\n",
            "text          Japan marks 70th anniversary of Hiroshima atom...\n",
            "length                                                      140\n",
            "word_count                                                   19\n",
            "Name: 1669, dtype: object\n",
            "Japan marks 70th anniversary of Hiroshima atomic bombing: Bells tolled in Hiroshima on Thursday as Japan marked 70Û_ http://t.co/NBZiKcJpHp\n",
            "0.9994370148050067\n"
          ]
        }
      ],
      "source": [
        "emergency = pipe.predict_proba(X_train)\n",
        "\n",
        "tweet_index = 0\n",
        "tweet_chance = 0\n",
        "\n",
        "for t in range(len(emergency)):\n",
        "    if emergency[t][1] > tweet_chance:\n",
        "        tweet_index = t\n",
        "        tweet_chance = emergency[t][1]\n",
        "\n",
        "\n",
        "print(X_train.iloc[tweet_index])\n",
        "print(X_train.iloc[tweet_index]['text'])\n",
        "\n",
        "print(tweet_chance)"
      ]
    },
    {
      "cell_type": "markdown",
      "metadata": {
        "id": "i5u9CgB3IFUL"
      },
      "source": [
        "We went through and found the most important keyword, location, text, length and word count. We found that our most important keyword is bombing, location is London and our most important text was about the bombing of Hiroshima which was a target in our test set. \n",
        "\n",
        "\n",
        "Additionally, the tweet that was least likely to be an actual disaster was pure giberish. \n"
      ]
    },
    {
      "cell_type": "markdown",
      "source": [
        "Note we didn't use Shap or anything like it because the only thing really mattered was the text of tweet. Nothing else was going to tell us anything. \n",
        "\n",
        "Adding in other features never really added to the model. "
      ],
      "metadata": {
        "id": "ig00JWPwGP3A"
      }
    },
    {
      "cell_type": "markdown",
      "metadata": {
        "id": "P9ze_XHBIFUL"
      },
      "source": [
        "<!-- END QUESTION -->\n",
        "\n",
        "<br><br>"
      ]
    },
    {
      "cell_type": "markdown",
      "metadata": {
        "id": "Lw49cywxIFUL"
      },
      "source": [
        "<!-- BEGIN QUESTION -->\n",
        "\n",
        "## 12. Results on the test set <a name=\"12\"></a>\n",
        "<hr>\n",
        "\n",
        "**Your tasks:**\n",
        "\n",
        "1. Try your best performing model on the test data (from train test split) and report test scores. \n",
        "2. Do the test scores agree with the validation scores from before? To what extent do you trust your results? Do you think you've had issues with optimization bias? \n",
        "3. Take one or two test predictions and explain these individual predictions (e.g., with SHAP force plots).  "
      ]
    },
    {
      "cell_type": "code",
      "execution_count": 34,
      "metadata": {
        "id": "oGV2A_RxIFUL",
        "colab": {
          "base_uri": "https://localhost:8080/"
        },
        "outputId": "528f912a-0988-42c9-fd8a-40accb4e30be"
      },
      "outputs": [
        {
          "output_type": "stream",
          "name": "stdout",
          "text": [
            "[0.70028894 0.71387283]\n"
          ]
        }
      ],
      "source": [
        "preprocessor = ColumnTransformer([('keyword/location', OneHotEncoder(handle_unknown='ignore'),['keyword', 'location']), \n",
        "                                  ('text', CountVectorizer(stop_words=\"english\",   strip_accents='ascii'), 'text')])\n",
        "pipe = make_pipeline(preprocessor, LogisticRegression(max_iter=10000, C=0.316),)\n",
        "    \n",
        "scores = cross_val_score(pipe, X_train, y_train, cv=2) \n",
        "\n",
        "print(scores)"
      ]
    },
    {
      "cell_type": "markdown",
      "metadata": {
        "id": "XbHUJbOLIFUL"
      },
      "source": [
        "We were given our train and test already split therefore we will show our test scores from our best model using the split we made for x and y from the train set. We got around a 70% test score. Our train scores were almost 100% which shows us there is some over fitting going on. We did not have a lot of issues with optimization bias but rather that data was very messy and needed to be cleaned. Both our scores show that we got 70% of our test set correct which is about 20% better than our dummy test. \n"
      ]
    },
    {
      "cell_type": "markdown",
      "metadata": {
        "id": "PNi_x8DAIFUL"
      },
      "source": [
        "<!-- END QUESTION -->\n",
        "\n",
        "<br><br>"
      ]
    },
    {
      "cell_type": "markdown",
      "metadata": {
        "id": "2aXOhRImIFUL"
      },
      "source": [
        "<!-- BEGIN QUESTION -->\n",
        "\n",
        "## 13. Submit the predictions to Kaggle <a name=\"13\"></a>\n",
        "<hr>\n",
        "\n",
        "**Your tasks:**\n",
        "\n",
        "Retrain the best model on the whole training dataset and upload the predicted output on the test set to Kaggle. Report your final test score."
      ]
    },
    {
      "cell_type": "markdown",
      "source": [
        "Example of us doing it in code"
      ],
      "metadata": {
        "id": "Cv0DZXMFF1Pp"
      }
    },
    {
      "cell_type": "code",
      "source": [
        "'''\n",
        "C = 0.316\n",
        "feature = 10000                     \n",
        "pipe = make_pipeline(\n",
        "            ColumnTransformer([('text', CountVectorizer(stop_words=\"english\", strip_accents='ascii', max_features = feature), 'text')\n",
        "            ,('keyword/location', OneHotEncoder(handle_unknown='ignore'),['keyword', 'location'])]),\n",
        "            LogisticRegression(max_iter=1000, C=C))\n",
        "\n",
        "\n",
        "pipe.fit( X_train, y_train)\n",
        "prediction = pipe.predict(X_test)\n",
        "\n",
        "ids = X_test.index.values\n",
        "\n",
        "out = [ids, prediction]\n",
        "outT = np.transpose(out)\n",
        "\n",
        "out_df = pd.DataFrame(outT, columns=['id','target'])\n",
        "\n",
        "#save results to csv file\n",
        "file_path = \"/content/gdrive/My Drive/cs4320_project/results_latest2.csv\"\n",
        "out_df.to_csv(file_path, index=False)\n",
        "\n",
        "'''"
      ],
      "metadata": {
        "colab": {
          "base_uri": "https://localhost:8080/",
          "height": 105
        },
        "id": "s8tVjBk1F5C2",
        "outputId": "e2ddb0e2-c46b-483b-a640-b9efef039944"
      },
      "execution_count": 35,
      "outputs": [
        {
          "output_type": "execute_result",
          "data": {
            "text/plain": [
              "'\\nC = 0.316\\nfeature = 10000                     \\npipe = make_pipeline(\\n            ColumnTransformer([(\\'text\\', CountVectorizer(stop_words=\"english\", strip_accents=\\'ascii\\', max_features = feature), \\'text\\')\\n            ,(\\'keyword/location\\', OneHotEncoder(handle_unknown=\\'ignore\\'),[\\'keyword\\', \\'location\\'])]),\\n            LogisticRegression(max_iter=1000, C=C))\\n\\n\\npipe.fit( X_train, y_train)\\nprediction = pipe.predict(X_test)\\n\\nids = X_test.index.values\\n\\nout = [ids, prediction]\\noutT = np.transpose(out)\\n\\nout_df = pd.DataFrame(outT, columns=[\\'id\\',\\'target\\'])\\n\\n#save results to csv file\\nfile_path = \"/content/gdrive/My Drive/cs4320_project/results_latest2.csv\"\\nout_df.to_csv(file_path, index=False)\\n\\n'"
            ],
            "application/vnd.google.colaboratory.intrinsic+json": {
              "type": "string"
            }
          },
          "metadata": {},
          "execution_count": 35
        }
      ]
    },
    {
      "cell_type": "markdown",
      "source": [
        "Below are some of our many Kaggle results. \n",
        "Our best Kaggle results were from Logistic with a C-value of 0.317"
      ],
      "metadata": {
        "id": "rc4wd7BhT9nx"
      }
    },
    {
      "cell_type": "markdown",
      "metadata": {
        "id": "nYtoJdi7IFUL"
      },
      "source": [
        "![bargraph (2).png](data:image/png;base64,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)_\n",
        "\n",
        "\n",
        "\n"
      ]
    },
    {
      "cell_type": "markdown",
      "metadata": {
        "id": "Gm2S1AA8IFUL"
      },
      "source": [
        "<!-- END QUESTION -->\n",
        "\n",
        "<br><br>"
      ]
    },
    {
      "cell_type": "markdown",
      "metadata": {
        "id": "_lj4fnt3IFUN"
      },
      "source": [
        "<!-- BEGIN QUESTION -->\n",
        "\n",
        "## 14. Your takeaway <a name=\"14\"></a>\n",
        "<hr>\n",
        "\n",
        "**Your tasks:**\n",
        "\n",
        "What is your biggest takeaway from the supervised machine learning material we have learned so far? Please write thoughtful answers.  Discuss other ideas that you did not try but could potentially improve the performance/interpretability . \n",
        "\n",
        "Our  biggest takeaway from the supervised machine learning material we have learned so far is that with almost any data set there is a large amount of different ways to work with the data. Just with this dataset alone we tried more than 6 models that got very similar results. It also shows that if one model doesn't work there will almost always be another model to try. Our biggest problem in our data is that the data needed to be cleaned. Looking into the tweets we found a tweet that was in our data twice and in the test set it was counted once as a target and once as not a target. Therefore, in order to improve our performance we would need to find a way to clean the data given to us. We beleive that was our biggest set back because we tried a large amount of models with hyperparameterization and still got about the same score on each one. "
      ]
    },
    {
      "cell_type": "markdown",
      "metadata": {
        "id": "NPCqV-OqIFUN"
      },
      "source": [
        "<!-- END QUESTION -->\n",
        "\n",
        "<br><br>"
      ]
    }
  ],
  "metadata": {
    "colab": {
      "provenance": [],
      "collapsed_sections": [
        "gc9Zh19DIFUJ",
        "wTtz27v0IFUJ",
        "RIkK9MwfIFUK"
      ]
    },
    "kernelspec": {
      "display_name": "Python 3 (ipykernel)",
      "language": "python",
      "name": "python3"
    },
    "language_info": {
      "codemirror_mode": {
        "name": "ipython",
        "version": 3
      },
      "file_extension": ".py",
      "mimetype": "text/x-python",
      "name": "python",
      "nbconvert_exporter": "python",
      "pygments_lexer": "ipython3",
      "version": "3.9.12"
    },
    "otter": {
      "OK_FORMAT": true,
      "tests": {}
    }
  },
  "nbformat": 4,
  "nbformat_minor": 0
}