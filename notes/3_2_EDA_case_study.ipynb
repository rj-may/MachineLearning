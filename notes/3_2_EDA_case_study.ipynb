{
 "cells": [
  {
   "cell_type": "markdown",
   "metadata": {
    "id": "TwRQnRNYrlIr"
   },
   "source": [
    "# Exploratory data analysis for house sales\n",
    "From https://c.d2l.ai/stanford-cs329p/index.html"
   ]
  },
  {
   "cell_type": "code",
   "execution_count": 1,
   "metadata": {
    "colab": {
     "base_uri": "https://localhost:8080/"
    },
    "id": "--QD3h5arIE-",
    "outputId": "2530c9c0-ba79-463d-fc2f-6721e9da4984"
   },
   "outputs": [
    {
     "name": "stderr",
     "output_type": "stream",
     "text": [
      "'wget' is not recognized as an internal or external command,\n",
      "operable program or batch file.\n"
     ]
    }
   ],
   "source": [
    "!wget https://c.d2l.ai/stanford-cs329p/_static/house_sales.ftr"
   ]
  },
  {
   "cell_type": "markdown",
   "metadata": {
    "id": "kIgoLXYBroZ1"
   },
   "source": [
    "## First import libraries and data"
   ]
  },
  {
   "cell_type": "code",
   "execution_count": 2,
   "metadata": {
    "id": "1fdkJTecrPgY"
   },
   "outputs": [],
   "source": [
    "# !pip install seaborn pandas matplotlib numpy\n",
    "import numpy as np\n",
    "import pandas as pd\n",
    "import matplotlib.pyplot as plt\n",
    "import seaborn as sns\n",
    "from IPython import display\n",
    "display.set_matplotlib_formats('svg')"
   ]
  },
  {
   "cell_type": "code",
   "execution_count": 3,
   "metadata": {
    "id": "4u79l_CNrurZ"
   },
   "outputs": [
    {
     "ename": "ImportError",
     "evalue": "Missing optional dependency 'pyarrow'.  Use pip or conda to install pyarrow.",
     "output_type": "error",
     "traceback": [
      "\u001b[1;31m---------------------------------------------------------------------------\u001b[0m",
      "\u001b[1;31mImportError\u001b[0m                               Traceback (most recent call last)",
      "\u001b[1;32m<ipython-input-3-d42e6c07688f>\u001b[0m in \u001b[0;36m<module>\u001b[1;34m\u001b[0m\n\u001b[1;32m----> 1\u001b[1;33m \u001b[0mdata\u001b[0m \u001b[1;33m=\u001b[0m \u001b[0mpd\u001b[0m\u001b[1;33m.\u001b[0m\u001b[0mread_feather\u001b[0m\u001b[1;33m(\u001b[0m\u001b[1;34m'house_sales.ftr'\u001b[0m\u001b[1;33m)\u001b[0m\u001b[1;33m\u001b[0m\u001b[1;33m\u001b[0m\u001b[0m\n\u001b[0m",
      "\u001b[1;32m~\\Anaconda3\\lib\\site-packages\\pandas\\io\\feather_format.py\u001b[0m in \u001b[0;36mread_feather\u001b[1;34m(path, columns, use_threads)\u001b[0m\n\u001b[0;32m     96\u001b[0m     \u001b[0mtype\u001b[0m \u001b[0mof\u001b[0m \u001b[0mobject\u001b[0m \u001b[0mstored\u001b[0m \u001b[1;32min\u001b[0m \u001b[0mfile\u001b[0m\u001b[1;33m\u001b[0m\u001b[1;33m\u001b[0m\u001b[0m\n\u001b[0;32m     97\u001b[0m     \"\"\"\n\u001b[1;32m---> 98\u001b[1;33m     \u001b[0mimport_optional_dependency\u001b[0m\u001b[1;33m(\u001b[0m\u001b[1;34m\"pyarrow\"\u001b[0m\u001b[1;33m)\u001b[0m\u001b[1;33m\u001b[0m\u001b[1;33m\u001b[0m\u001b[0m\n\u001b[0m\u001b[0;32m     99\u001b[0m     \u001b[1;32mfrom\u001b[0m \u001b[0mpyarrow\u001b[0m \u001b[1;32mimport\u001b[0m \u001b[0mfeather\u001b[0m\u001b[1;33m\u001b[0m\u001b[1;33m\u001b[0m\u001b[0m\n\u001b[0;32m    100\u001b[0m \u001b[1;33m\u001b[0m\u001b[0m\n",
      "\u001b[1;32m~\\Anaconda3\\lib\\site-packages\\pandas\\compat\\_optional.py\u001b[0m in \u001b[0;36mimport_optional_dependency\u001b[1;34m(name, extra, raise_on_missing, on_version)\u001b[0m\n\u001b[0;32m     90\u001b[0m     \u001b[1;32mexcept\u001b[0m \u001b[0mImportError\u001b[0m\u001b[1;33m:\u001b[0m\u001b[1;33m\u001b[0m\u001b[1;33m\u001b[0m\u001b[0m\n\u001b[0;32m     91\u001b[0m         \u001b[1;32mif\u001b[0m \u001b[0mraise_on_missing\u001b[0m\u001b[1;33m:\u001b[0m\u001b[1;33m\u001b[0m\u001b[1;33m\u001b[0m\u001b[0m\n\u001b[1;32m---> 92\u001b[1;33m             \u001b[1;32mraise\u001b[0m \u001b[0mImportError\u001b[0m\u001b[1;33m(\u001b[0m\u001b[0mmsg\u001b[0m\u001b[1;33m)\u001b[0m \u001b[1;32mfrom\u001b[0m \u001b[1;32mNone\u001b[0m\u001b[1;33m\u001b[0m\u001b[1;33m\u001b[0m\u001b[0m\n\u001b[0m\u001b[0;32m     93\u001b[0m         \u001b[1;32melse\u001b[0m\u001b[1;33m:\u001b[0m\u001b[1;33m\u001b[0m\u001b[1;33m\u001b[0m\u001b[0m\n\u001b[0;32m     94\u001b[0m             \u001b[1;32mreturn\u001b[0m \u001b[1;32mNone\u001b[0m\u001b[1;33m\u001b[0m\u001b[1;33m\u001b[0m\u001b[0m\n",
      "\u001b[1;31mImportError\u001b[0m: Missing optional dependency 'pyarrow'.  Use pip or conda to install pyarrow."
     ]
    }
   ],
   "source": [
    "data = pd.read_feather('house_sales.ftr')"
   ]
  },
  {
   "cell_type": "markdown",
   "metadata": {
    "id": "LP5JE1hfsG4N"
   },
   "source": [
    "## Let's check the data shape and the first a few examples"
   ]
  },
  {
   "cell_type": "code",
   "execution_count": null,
   "metadata": {
    "colab": {
     "base_uri": "https://localhost:8080/"
    },
    "id": "Ir4q1RNDsJ0Y",
    "outputId": "281e667d-90e0-4997-916a-429ec4916110"
   },
   "outputs": [],
   "source": [
    "data.shape"
   ]
  },
  {
   "cell_type": "code",
   "execution_count": null,
   "metadata": {
    "colab": {
     "base_uri": "https://localhost:8080/",
     "height": 523
    },
    "id": "xy1pns4AsNpx",
    "outputId": "666d9a42-f6cb-41b8-93da-909546e8f5e8"
   },
   "outputs": [],
   "source": [
    "data.head()"
   ]
  },
  {
   "cell_type": "markdown",
   "metadata": {
    "id": "FuiPYKGpsXeX"
   },
   "source": [
    "## We drop columns that at least 30% values are null to simplify our EDA."
   ]
  },
  {
   "cell_type": "code",
   "execution_count": null,
   "metadata": {
    "colab": {
     "base_uri": "https://localhost:8080/"
    },
    "id": "mbOGjAqTsYv8",
    "outputId": "a387a17e-e7a4-48d0-feb6-05cc3549311b"
   },
   "outputs": [],
   "source": [
    "null_sum = data.isnull().sum()\n",
    "data.columns[null_sum < len(data) * 0.3]  # columns will keep"
   ]
  },
  {
   "cell_type": "code",
   "execution_count": null,
   "metadata": {
    "id": "cNIU_fWesbvS"
   },
   "outputs": [],
   "source": [
    "data.drop(columns=data.columns[null_sum > len(data) * 0.3], inplace=True)"
   ]
  },
  {
   "cell_type": "markdown",
   "metadata": {
    "id": "NpItaMaAsi1z"
   },
   "source": [
    "## Next we check the data types"
   ]
  },
  {
   "cell_type": "code",
   "execution_count": null,
   "metadata": {
    "colab": {
     "base_uri": "https://localhost:8080/"
    },
    "id": "eoTMD2YPskJM",
    "outputId": "466223c3-c6af-47aa-a1f3-eb75a6a3a985"
   },
   "outputs": [],
   "source": [
    "data.dtypes"
   ]
  },
  {
   "cell_type": "markdown",
   "metadata": {
    "id": "BMKpZ9wwtMG5"
   },
   "source": [
    "## Convert currency from string format such as $1,000,000 to float."
   ]
  },
  {
   "cell_type": "code",
   "execution_count": null,
   "metadata": {
    "id": "AlYVJcwotOui"
   },
   "outputs": [],
   "source": [
    "currency = ['Sold Price', 'Listed Price', 'Tax assessed value', 'Annual tax amount']\n",
    "for c in currency:\n",
    "    data[c] = data[c].replace(\n",
    "        r'[$,-]', '', regex=True).replace(\n",
    "        r'^\\s*$', np.nan, regex=True).astype(float)"
   ]
  },
  {
   "cell_type": "markdown",
   "metadata": {
    "id": "oo3itvektQ6v"
   },
   "source": [
    "## Also convert areas from string format such as 1000 sqft and 1 Acres to float as well."
   ]
  },
  {
   "cell_type": "code",
   "execution_count": null,
   "metadata": {
    "id": "6tvMKXFptVLj"
   },
   "outputs": [],
   "source": [
    "areas = ['Total interior livable area', 'Lot size']\n",
    "for c in areas:\n",
    "    acres = data[c].str.contains('Acres') == True\n",
    "    col = data[c].replace(r'\\b sqft\\b|\\b Acres\\b|\\b,\\b','', regex=True).astype(float)\n",
    "    col[acres] *= 43560\n",
    "    data[c] = col"
   ]
  },
  {
   "cell_type": "markdown",
   "metadata": {
    "id": "aKK5rqEFsrcp"
   },
   "source": [
    "## Now we can check values of the numerical columns. You could see the min and max values for several columns do not make sense."
   ]
  },
  {
   "cell_type": "code",
   "execution_count": null,
   "metadata": {
    "colab": {
     "base_uri": "https://localhost:8080/",
     "height": 297
    },
    "id": "jYmUYWxtsnV_",
    "outputId": "8ac5a048-c3d2-4f94-9724-ca67682acd80"
   },
   "outputs": [],
   "source": [
    "data.describe()"
   ]
  },
  {
   "cell_type": "markdown",
   "metadata": {
    "id": "1UK6-8dWth4r"
   },
   "source": [
    "## We filter out houses whose living areas are too small or too hard to simplify the visualization later."
   ]
  },
  {
   "cell_type": "code",
   "execution_count": null,
   "metadata": {
    "colab": {
     "base_uri": "https://localhost:8080/"
    },
    "id": "u4mnVyE5tjIb",
    "outputId": "63d333e9-2133-4ff4-90ae-355ff129b3ce"
   },
   "outputs": [],
   "source": [
    "abnormal = (data[areas[1]] < 10) | (data[areas[1]] > 1e4)\n",
    "data = data[~abnormal]\n",
    "sum(abnormal)"
   ]
  },
  {
   "cell_type": "markdown",
   "metadata": {
    "id": "XehVVG9_tlPt"
   },
   "source": [
    "## Let's check the histogram of the 'Sold Price', which is the target we want to predict."
   ]
  },
  {
   "cell_type": "code",
   "execution_count": null,
   "metadata": {
    "colab": {
     "base_uri": "https://localhost:8080/",
     "height": 371
    },
    "id": "E1bu4teWtsxH",
    "outputId": "e76bdd05-e105-4705-94d4-e57b01f1c218"
   },
   "outputs": [],
   "source": [
    "ax = sns.histplot(np.log10(data['Sold Price']))\n",
    "ax.set_xlim([3, 8])\n",
    "ax.set_xticks(range(3, 9))\n",
    "ax.set_xticklabels(['%.0e'%a for a in 10**ax.get_xticks()]);"
   ]
  },
  {
   "cell_type": "markdown",
   "metadata": {
    "id": "bVBNeLKYt9we"
   },
   "source": [
    "## A house has different types. Here are the top types:"
   ]
  },
  {
   "cell_type": "code",
   "execution_count": null,
   "metadata": {
    "colab": {
     "base_uri": "https://localhost:8080/"
    },
    "id": "j3D25-Irt-_z",
    "outputId": "9d77649b-5a9c-4771-97a7-f325d898bc90"
   },
   "outputs": [],
   "source": [
    "data['Type'].value_counts()[0:20]"
   ]
  },
  {
   "cell_type": "markdown",
   "metadata": {
    "id": "OuwBdZLwywdF"
   },
   "source": [
    "## Price density for different house types."
   ]
  },
  {
   "cell_type": "code",
   "execution_count": null,
   "metadata": {
    "colab": {
     "base_uri": "https://localhost:8080/",
     "height": 491
    },
    "id": "tQvvvCM5yx0p",
    "outputId": "2e43130c-c717-4fa4-a5fd-57739034e5cf"
   },
   "outputs": [],
   "source": [
    "types = data['Type'].isin(['SingleFamily', 'Condo', 'MultiFamily', 'Townhouse'])\n",
    "sns.displot(pd.DataFrame({'Sold Price':np.log10(data[types]['Sold Price']),\n",
    "                          'Type':data[types]['Type']}),\n",
    "            x='Sold Price', hue='Type', kind='kde');"
   ]
  },
  {
   "cell_type": "markdown",
   "metadata": {
    "id": "lhbnuVYjy2Zf"
   },
   "source": [
    "## Another important measurement is the sale price per living sqft. Let's check the differences between different house types."
   ]
  },
  {
   "cell_type": "code",
   "execution_count": null,
   "metadata": {
    "colab": {
     "base_uri": "https://localhost:8080/",
     "height": 376
    },
    "id": "Dye4WmCTy5yk",
    "outputId": "1d5584df-c857-48fe-ac0a-2c84da0fbaa3"
   },
   "outputs": [],
   "source": [
    "data['Price per living sqft'] = data['Sold Price'] / data['Total interior livable area']\n",
    "ax = sns.boxplot(x='Type', y='Price per living sqft', data=data[types], fliersize=0)\n",
    "ax.set_ylim([0, 2000]);"
   ]
  },
  {
   "cell_type": "markdown",
   "metadata": {
    "id": "J63kYcYUzBtW"
   },
   "source": [
    "## We know the location affect the price. Let's check the price for the top 20 zip codes."
   ]
  },
  {
   "cell_type": "code",
   "execution_count": null,
   "metadata": {
    "colab": {
     "base_uri": "https://localhost:8080/",
     "height": 406
    },
    "id": "QE8AjgJEzDDi",
    "outputId": "727bb731-19f1-46cc-a1e4-030240803230"
   },
   "outputs": [],
   "source": [
    "d = data[data['Zip'].isin(data['Zip'].value_counts()[:20].keys())]\n",
    "ax = sns.boxplot(x='Zip', y='Price per living sqft', data=d, fliersize=0)\n",
    "ax.set_ylim([0, 2000])\n",
    "ax.set_xticklabels(ax.get_xticklabels(), rotation=90);"
   ]
  },
  {
   "cell_type": "markdown",
   "metadata": {
    "id": "Jxm2xUkUzF9L"
   },
   "source": [
    "## Last, we visualize the correlation matrix of several columns"
   ]
  },
  {
   "cell_type": "code",
   "execution_count": null,
   "metadata": {
    "colab": {
     "base_uri": "https://localhost:8080/",
     "height": 618
    },
    "id": "DVshFjF7zFpb",
    "outputId": "8c52fd02-1db4-4ad5-ef2b-c51e02829dd8"
   },
   "outputs": [],
   "source": [
    "_, ax = plt.subplots(figsize=(6,6))\n",
    "columns = ['Sold Price', 'Listed Price', 'Annual tax amount', 'Price per living sqft', 'Elementary School Score', 'High School Score']\n",
    "sns.heatmap(data[columns].corr(),annot=True,cmap='RdYlGn', ax=ax);"
   ]
  },
  {
   "cell_type": "markdown",
   "metadata": {
    "id": "GeA1kxXazt9A"
   },
   "source": [
    "## Summary\n",
    "This notebook demonstrates the basic technologies for EDA, including\n",
    "\n",
    "* Understanding column data types, values, and distributions\n",
    "\n",
    "* Understanding the interactions between columns\n",
    "\n",
    "We only explored a small aspect of the data. You are welcome to dive deep into more details."
   ]
  }
 ],
 "metadata": {
  "colab": {
   "name": "EDA-case study.ipynb",
   "provenance": []
  },
  "kernelspec": {
   "display_name": "Python 3",
   "language": "python",
   "name": "python3"
  },
  "language_info": {
   "codemirror_mode": {
    "name": "ipython",
    "version": 3
   },
   "file_extension": ".py",
   "mimetype": "text/x-python",
   "name": "python",
   "nbconvert_exporter": "python",
   "pygments_lexer": "ipython3",
   "version": "3.7.7"
  }
 },
 "nbformat": 4,
 "nbformat_minor": 1
}
